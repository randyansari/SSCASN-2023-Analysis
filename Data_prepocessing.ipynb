{
 "cells": [
  {
   "cell_type": "code",
   "execution_count": 1,
   "metadata": {},
   "outputs": [],
   "source": [
    "import pandas as pd\n",
    "import numpy as np\n",
    "import matplotlib.pyplot as plt"
   ]
  },
  {
   "cell_type": "code",
   "execution_count": 2,
   "metadata": {},
   "outputs": [
    {
     "name": "stderr",
     "output_type": "stream",
     "text": [
      "C:\\Users\\ASUS\\AppData\\Local\\Temp\\ipykernel_9432\\1973385228.py:2: DtypeWarning: Columns (14) have mixed types. Specify dtype option on import or set low_memory=False.\n",
      "  df = pd.read_csv(data)\n"
     ]
    }
   ],
   "source": [
    "data = \"E:\\Project\\Loker ASN 2023\\Loker ASN 2023.txt\"\n",
    "df = pd.read_csv(data)"
   ]
  },
  {
   "cell_type": "code",
   "execution_count": 3,
   "metadata": {},
   "outputs": [
    {
     "data": {
      "text/html": [
       "<div>\n",
       "<style scoped>\n",
       "    .dataframe tbody tr th:only-of-type {\n",
       "        vertical-align: middle;\n",
       "    }\n",
       "\n",
       "    .dataframe tbody tr th {\n",
       "        vertical-align: top;\n",
       "    }\n",
       "\n",
       "    .dataframe thead th {\n",
       "        text-align: right;\n",
       "    }\n",
       "</style>\n",
       "<table border=\"1\" class=\"dataframe\">\n",
       "  <thead>\n",
       "    <tr style=\"text-align: right;\">\n",
       "      <th></th>\n",
       "      <th>formasi_id</th>\n",
       "      <th>ins_kd</th>\n",
       "      <th>ins_nm</th>\n",
       "      <th>pengadaan_kd</th>\n",
       "      <th>jp_nama</th>\n",
       "      <th>formasi_nm</th>\n",
       "      <th>jabatan_kd</th>\n",
       "      <th>jabatan_nm</th>\n",
       "      <th>lokasi_nm</th>\n",
       "      <th>pendidikan_nm</th>\n",
       "      <th>gaji_min</th>\n",
       "      <th>gaji_max</th>\n",
       "      <th>jumlah_formasi</th>\n",
       "      <th>disable</th>\n",
       "      <th>group_tk_pendidikan_id</th>\n",
       "      <th>kode_ref_pend</th>\n",
       "      <th>instansi_id</th>\n",
       "      <th>jenis_formasi_id</th>\n",
       "      <th>aksi</th>\n",
       "    </tr>\n",
       "  </thead>\n",
       "  <tbody>\n",
       "    <tr>\n",
       "      <th>0</th>\n",
       "      <td>a2f694efefa34028af2fc8ce73138aae</td>\n",
       "      <td>4024</td>\n",
       "      <td>Kementerian Agraria dan Tata Ruang/Badan Perta...</td>\n",
       "      <td>3</td>\n",
       "      <td>PPPK Teknis</td>\n",
       "      <td>KHUSUS</td>\n",
       "      <td>JF03002807</td>\n",
       "      <td>TERAMPIL - ASISTEN PENATA KADASTRAL</td>\n",
       "      <td>KEMENTERIAN ATR/BPN - SULAWESI TENGGARA</td>\n",
       "      <td>D-III SURVEI, PENGUKURAN, PEMETAAN / D-III GEO...</td>\n",
       "      <td>2647200.0</td>\n",
       "      <td>5147200.0</td>\n",
       "      <td>19</td>\n",
       "      <td>0</td>\n",
       "      <td>50</td>\n",
       "      <td>230241B / 4100310 / 4415400 / 4417062 / 4475170</td>\n",
       "      <td>A5EB03E23B06F6A0E040640A040252AD</td>\n",
       "      <td>8</td>\n",
       "      <td>&lt;a class=\"btn btn-primary lihat-btn\" data-form...</td>\n",
       "    </tr>\n",
       "    <tr>\n",
       "      <th>1</th>\n",
       "      <td>646b1ef96dc74f7d97533f119f3987cd</td>\n",
       "      <td>4024</td>\n",
       "      <td>Kementerian Agraria dan Tata Ruang/Badan Perta...</td>\n",
       "      <td>3</td>\n",
       "      <td>PPPK Teknis</td>\n",
       "      <td>KHUSUS</td>\n",
       "      <td>JF03002807</td>\n",
       "      <td>TERAMPIL - ASISTEN PENATA KADASTRAL</td>\n",
       "      <td>KEMENTERIAN ATR/BPN - ACEH</td>\n",
       "      <td>D-III SURVEI, PENGUKURAN, PEMETAAN / D-III GEO...</td>\n",
       "      <td>2647200.0</td>\n",
       "      <td>5147200.0</td>\n",
       "      <td>15</td>\n",
       "      <td>0</td>\n",
       "      <td>50</td>\n",
       "      <td>230241B / 4100310 / 4415400 / 4417062 / 4475170</td>\n",
       "      <td>A5EB03E23B06F6A0E040640A040252AD</td>\n",
       "      <td>8</td>\n",
       "      <td>&lt;a class=\"btn btn-primary lihat-btn\" data-form...</td>\n",
       "    </tr>\n",
       "    <tr>\n",
       "      <th>2</th>\n",
       "      <td>52c1d97797c542cd81d733aa2a52b158</td>\n",
       "      <td>4024</td>\n",
       "      <td>Kementerian Agraria dan Tata Ruang/Badan Perta...</td>\n",
       "      <td>3</td>\n",
       "      <td>PPPK Teknis</td>\n",
       "      <td>KHUSUS</td>\n",
       "      <td>JF03002807</td>\n",
       "      <td>TERAMPIL - ASISTEN PENATA KADASTRAL</td>\n",
       "      <td>KEMENTERIAN ATR/BPN - LAMPUNG</td>\n",
       "      <td>D-III SURVEI, PENGUKURAN, PEMETAAN / D-III GEO...</td>\n",
       "      <td>2647200.0</td>\n",
       "      <td>5147200.0</td>\n",
       "      <td>12</td>\n",
       "      <td>0</td>\n",
       "      <td>50</td>\n",
       "      <td>230241B / 4100310 / 4415400 / 4417062 / 4475170</td>\n",
       "      <td>A5EB03E23B06F6A0E040640A040252AD</td>\n",
       "      <td>8</td>\n",
       "      <td>&lt;a class=\"btn btn-primary lihat-btn\" data-form...</td>\n",
       "    </tr>\n",
       "    <tr>\n",
       "      <th>3</th>\n",
       "      <td>58334105f970459cbf050396de5a6dbc</td>\n",
       "      <td>4024</td>\n",
       "      <td>Kementerian Agraria dan Tata Ruang/Badan Perta...</td>\n",
       "      <td>3</td>\n",
       "      <td>PPPK Teknis</td>\n",
       "      <td>KHUSUS</td>\n",
       "      <td>JF03002807</td>\n",
       "      <td>TERAMPIL - ASISTEN PENATA KADASTRAL</td>\n",
       "      <td>KEMENTERIAN ATR/BPN - NUSA TENGGARA TIMUR</td>\n",
       "      <td>D-III SURVEI, PENGUKURAN, PEMETAAN / D-III GEO...</td>\n",
       "      <td>2647200.0</td>\n",
       "      <td>5147200.0</td>\n",
       "      <td>12</td>\n",
       "      <td>0</td>\n",
       "      <td>50</td>\n",
       "      <td>230241B / 4100310 / 4415400 / 4417062 / 4475170</td>\n",
       "      <td>A5EB03E23B06F6A0E040640A040252AD</td>\n",
       "      <td>8</td>\n",
       "      <td>&lt;a class=\"btn btn-primary lihat-btn\" data-form...</td>\n",
       "    </tr>\n",
       "    <tr>\n",
       "      <th>4</th>\n",
       "      <td>ce9a40187090439ea7e43d2d4981c950</td>\n",
       "      <td>4024</td>\n",
       "      <td>Kementerian Agraria dan Tata Ruang/Badan Perta...</td>\n",
       "      <td>3</td>\n",
       "      <td>PPPK Teknis</td>\n",
       "      <td>KHUSUS</td>\n",
       "      <td>JF03002807</td>\n",
       "      <td>TERAMPIL - ASISTEN PENATA KADASTRAL</td>\n",
       "      <td>KEMENTERIAN ATR/BPN - PAPUA</td>\n",
       "      <td>D-III SURVEI, PENGUKURAN, PEMETAAN / D-III GEO...</td>\n",
       "      <td>2647200.0</td>\n",
       "      <td>5147200.0</td>\n",
       "      <td>12</td>\n",
       "      <td>0</td>\n",
       "      <td>50</td>\n",
       "      <td>230241B / 4100310 / 4415400 / 4417062 / 4475170</td>\n",
       "      <td>A5EB03E23B06F6A0E040640A040252AD</td>\n",
       "      <td>8</td>\n",
       "      <td>&lt;a class=\"btn btn-primary lihat-btn\" data-form...</td>\n",
       "    </tr>\n",
       "  </tbody>\n",
       "</table>\n",
       "</div>"
      ],
      "text/plain": [
       "                         formasi_id  ins_kd  \\\n",
       "0  a2f694efefa34028af2fc8ce73138aae    4024   \n",
       "1  646b1ef96dc74f7d97533f119f3987cd    4024   \n",
       "2  52c1d97797c542cd81d733aa2a52b158    4024   \n",
       "3  58334105f970459cbf050396de5a6dbc    4024   \n",
       "4  ce9a40187090439ea7e43d2d4981c950    4024   \n",
       "\n",
       "                                              ins_nm  pengadaan_kd  \\\n",
       "0  Kementerian Agraria dan Tata Ruang/Badan Perta...             3   \n",
       "1  Kementerian Agraria dan Tata Ruang/Badan Perta...             3   \n",
       "2  Kementerian Agraria dan Tata Ruang/Badan Perta...             3   \n",
       "3  Kementerian Agraria dan Tata Ruang/Badan Perta...             3   \n",
       "4  Kementerian Agraria dan Tata Ruang/Badan Perta...             3   \n",
       "\n",
       "       jp_nama formasi_nm  jabatan_kd                           jabatan_nm  \\\n",
       "0  PPPK Teknis     KHUSUS  JF03002807  TERAMPIL - ASISTEN PENATA KADASTRAL   \n",
       "1  PPPK Teknis     KHUSUS  JF03002807  TERAMPIL - ASISTEN PENATA KADASTRAL   \n",
       "2  PPPK Teknis     KHUSUS  JF03002807  TERAMPIL - ASISTEN PENATA KADASTRAL   \n",
       "3  PPPK Teknis     KHUSUS  JF03002807  TERAMPIL - ASISTEN PENATA KADASTRAL   \n",
       "4  PPPK Teknis     KHUSUS  JF03002807  TERAMPIL - ASISTEN PENATA KADASTRAL   \n",
       "\n",
       "                                   lokasi_nm  \\\n",
       "0    KEMENTERIAN ATR/BPN - SULAWESI TENGGARA   \n",
       "1                 KEMENTERIAN ATR/BPN - ACEH   \n",
       "2              KEMENTERIAN ATR/BPN - LAMPUNG   \n",
       "3  KEMENTERIAN ATR/BPN - NUSA TENGGARA TIMUR   \n",
       "4                KEMENTERIAN ATR/BPN - PAPUA   \n",
       "\n",
       "                                       pendidikan_nm   gaji_min   gaji_max  \\\n",
       "0  D-III SURVEI, PENGUKURAN, PEMETAAN / D-III GEO...  2647200.0  5147200.0   \n",
       "1  D-III SURVEI, PENGUKURAN, PEMETAAN / D-III GEO...  2647200.0  5147200.0   \n",
       "2  D-III SURVEI, PENGUKURAN, PEMETAAN / D-III GEO...  2647200.0  5147200.0   \n",
       "3  D-III SURVEI, PENGUKURAN, PEMETAAN / D-III GEO...  2647200.0  5147200.0   \n",
       "4  D-III SURVEI, PENGUKURAN, PEMETAAN / D-III GEO...  2647200.0  5147200.0   \n",
       "\n",
       "   jumlah_formasi  disable group_tk_pendidikan_id  \\\n",
       "0              19        0                     50   \n",
       "1              15        0                     50   \n",
       "2              12        0                     50   \n",
       "3              12        0                     50   \n",
       "4              12        0                     50   \n",
       "\n",
       "                                     kode_ref_pend  \\\n",
       "0  230241B / 4100310 / 4415400 / 4417062 / 4475170   \n",
       "1  230241B / 4100310 / 4415400 / 4417062 / 4475170   \n",
       "2  230241B / 4100310 / 4415400 / 4417062 / 4475170   \n",
       "3  230241B / 4100310 / 4415400 / 4417062 / 4475170   \n",
       "4  230241B / 4100310 / 4415400 / 4417062 / 4475170   \n",
       "\n",
       "                        instansi_id  jenis_formasi_id  \\\n",
       "0  A5EB03E23B06F6A0E040640A040252AD                 8   \n",
       "1  A5EB03E23B06F6A0E040640A040252AD                 8   \n",
       "2  A5EB03E23B06F6A0E040640A040252AD                 8   \n",
       "3  A5EB03E23B06F6A0E040640A040252AD                 8   \n",
       "4  A5EB03E23B06F6A0E040640A040252AD                 8   \n",
       "\n",
       "                                                aksi  \n",
       "0  <a class=\"btn btn-primary lihat-btn\" data-form...  \n",
       "1  <a class=\"btn btn-primary lihat-btn\" data-form...  \n",
       "2  <a class=\"btn btn-primary lihat-btn\" data-form...  \n",
       "3  <a class=\"btn btn-primary lihat-btn\" data-form...  \n",
       "4  <a class=\"btn btn-primary lihat-btn\" data-form...  "
      ]
     },
     "execution_count": 3,
     "metadata": {},
     "output_type": "execute_result"
    }
   ],
   "source": [
    "df.head()"
   ]
  },
  {
   "cell_type": "markdown",
   "metadata": {},
   "source": [
    "Data Wrangling"
   ]
  },
  {
   "cell_type": "code",
   "execution_count": 4,
   "metadata": {},
   "outputs": [
    {
     "data": {
      "text/plain": [
       "Index(['formasi_id', 'ins_kd', 'ins_nm', 'pengadaan_kd', 'jp_nama',\n",
       "       'formasi_nm', 'jabatan_kd', 'jabatan_nm', 'lokasi_nm', 'pendidikan_nm',\n",
       "       'gaji_min', 'gaji_max', 'jumlah_formasi', 'disable',\n",
       "       'group_tk_pendidikan_id', 'kode_ref_pend', 'instansi_id',\n",
       "       'jenis_formasi_id', 'aksi'],\n",
       "      dtype='object')"
      ]
     },
     "execution_count": 4,
     "metadata": {},
     "output_type": "execute_result"
    }
   ],
   "source": [
    "# Menampilkan semua nama kolom\n",
    "df.columns"
   ]
  },
  {
   "cell_type": "code",
   "execution_count": 5,
   "metadata": {},
   "outputs": [],
   "source": [
    "# Menghapus kolom yang tidak diperlukan\n",
    "df_clean = df.drop(['formasi_id','ins_kd','pengadaan_kd','jabatan_kd',\n",
    "                     'disable','group_tk_pendidikan_id','kode_ref_pend', \n",
    "                     'instansi_id','jenis_formasi_id', 'aksi'], axis=1)"
   ]
  },
  {
   "cell_type": "code",
   "execution_count": 6,
   "metadata": {},
   "outputs": [
    {
     "name": "stdout",
     "output_type": "stream",
     "text": [
      "<class 'pandas.core.frame.DataFrame'>\n",
      "RangeIndex: 247557 entries, 0 to 247556\n",
      "Data columns (total 9 columns):\n",
      " #   Column          Non-Null Count   Dtype  \n",
      "---  ------          --------------   -----  \n",
      " 0   ins_nm          247557 non-null  object \n",
      " 1   jp_nama         247557 non-null  object \n",
      " 2   formasi_nm      247557 non-null  object \n",
      " 3   jabatan_nm      247557 non-null  object \n",
      " 4   lokasi_nm       247557 non-null  object \n",
      " 5   pendidikan_nm   247557 non-null  object \n",
      " 6   gaji_min        243124 non-null  float64\n",
      " 7   gaji_max        243124 non-null  float64\n",
      " 8   jumlah_formasi  247557 non-null  int64  \n",
      "dtypes: float64(2), int64(1), object(6)\n",
      "memory usage: 17.0+ MB\n"
     ]
    }
   ],
   "source": [
    "df_clean.info()"
   ]
  },
  {
   "cell_type": "code",
   "execution_count": 7,
   "metadata": {},
   "outputs": [
    {
     "data": {
      "text/plain": [
       "ins_nm               0\n",
       "jp_nama              0\n",
       "formasi_nm           0\n",
       "jabatan_nm           0\n",
       "lokasi_nm            0\n",
       "pendidikan_nm        0\n",
       "gaji_min          4433\n",
       "gaji_max          4433\n",
       "jumlah_formasi       0\n",
       "dtype: int64"
      ]
     },
     "execution_count": 7,
     "metadata": {},
     "output_type": "execute_result"
    }
   ],
   "source": [
    "# Memeriksa apakah ada data kosong dalam DataFrame\n",
    "df_clean.isnull().sum()"
   ]
  },
  {
   "cell_type": "code",
   "execution_count": 8,
   "metadata": {},
   "outputs": [],
   "source": [
    "# Menghapus baris yang mengandung missing value\n",
    "df_clean.dropna(axis=0, inplace=True)"
   ]
  },
  {
   "cell_type": "code",
   "execution_count": 9,
   "metadata": {},
   "outputs": [
    {
     "name": "stdout",
     "output_type": "stream",
     "text": [
      "<class 'pandas.core.frame.DataFrame'>\n",
      "Index: 243124 entries, 0 to 247556\n",
      "Data columns (total 9 columns):\n",
      " #   Column          Non-Null Count   Dtype  \n",
      "---  ------          --------------   -----  \n",
      " 0   ins_nm          243124 non-null  object \n",
      " 1   jp_nama         243124 non-null  object \n",
      " 2   formasi_nm      243124 non-null  object \n",
      " 3   jabatan_nm      243124 non-null  object \n",
      " 4   lokasi_nm       243124 non-null  object \n",
      " 5   pendidikan_nm   243124 non-null  object \n",
      " 6   gaji_min        243124 non-null  float64\n",
      " 7   gaji_max        243124 non-null  float64\n",
      " 8   jumlah_formasi  243124 non-null  int64  \n",
      "dtypes: float64(2), int64(1), object(6)\n",
      "memory usage: 18.5+ MB\n"
     ]
    }
   ],
   "source": [
    "df_clean.info()"
   ]
  },
  {
   "cell_type": "code",
   "execution_count": 10,
   "metadata": {},
   "outputs": [
    {
     "name": "stdout",
     "output_type": "stream",
     "text": [
      "Index([ 15671,  20192,  20193,  24971,  24972,  31156,  47750,  47751,  61535,\n",
      "        64031,  64032,  65632,  67446,  67447,  90286,  90287,  92749,  92750,\n",
      "        94910,  94911, 104489, 104490, 118956, 118957, 128106, 131266, 133300,\n",
      "       133301, 147891, 147892, 149097, 149098, 149109, 154522, 158184, 158395,\n",
      "       158396, 162317, 162318, 174826, 174827, 188455, 188456, 188515, 194096,\n",
      "       194097, 196207, 196208, 206299, 206300, 209535, 211315, 211329, 211330,\n",
      "       218184, 218185, 227880, 227881, 228328],\n",
      "      dtype='int64')\n"
     ]
    },
    {
     "data": {
      "text/plain": [
       "59"
      ]
     },
     "execution_count": 10,
     "metadata": {},
     "output_type": "execute_result"
    }
   ],
   "source": [
    "# Cek apakah ada gaji minimal yang kurang dari sama dengan 100 ribu karena ini tidak logis\n",
    "filter_gaji_min = df_clean[df_clean['gaji_min'] <= 100000].index\n",
    "print(filter_gaji_min)\n",
    "len(filter_gaji_min)"
   ]
  },
  {
   "cell_type": "code",
   "execution_count": 11,
   "metadata": {},
   "outputs": [
    {
     "name": "stdout",
     "output_type": "stream",
     "text": [
      "Index([  3740,  13382,  30715,  30895,  34460,  35015,  36149,  49684,  49685,\n",
      "        49686,  51154,  51155,  51156,  57070,  60134,  60135,  63658,  63659,\n",
      "        69232,  69620,  69720,  70172,  70898,  82112,  83664,  89874,  94749,\n",
      "        95166, 104117, 112841, 115377, 116572, 119777, 122559, 123408, 125415,\n",
      "       125416, 125417, 130679, 136495, 138305, 139506, 147206, 147207, 161348,\n",
      "       165717, 170808, 170960, 179190, 180549, 180550, 190540, 202763, 206827,\n",
      "       208371, 208372, 208373, 221816, 222822, 223970, 227250, 229713, 231377,\n",
      "       231378, 231379, 239373, 241297, 242097, 246343],\n",
      "      dtype='int64')\n"
     ]
    }
   ],
   "source": [
    "# Cek apakah ada formasi yang jumlah formasinya bernilai 0\n",
    "filter_jumlah_formasi = df_clean[df_clean['jumlah_formasi'] == 0].index\n",
    "print(filter_jumlah_formasi)"
   ]
  },
  {
   "cell_type": "code",
   "execution_count": 12,
   "metadata": {},
   "outputs": [],
   "source": [
    "# drop formasi yang nilai gaji minimumnya kurang dari 1 juta\n",
    "df_clean = df_clean.drop(filter_gaji_min)"
   ]
  },
  {
   "cell_type": "code",
   "execution_count": 13,
   "metadata": {},
   "outputs": [],
   "source": [
    "# drop formasi yang jumlah formasinya bernilai 0\n",
    "df_clean = df_clean.drop(filter_jumlah_formasi)"
   ]
  },
  {
   "cell_type": "code",
   "execution_count": 14,
   "metadata": {},
   "outputs": [
    {
     "name": "stdout",
     "output_type": "stream",
     "text": [
      "<class 'pandas.core.frame.DataFrame'>\n",
      "Index: 242996 entries, 0 to 247556\n",
      "Data columns (total 9 columns):\n",
      " #   Column          Non-Null Count   Dtype  \n",
      "---  ------          --------------   -----  \n",
      " 0   ins_nm          242996 non-null  object \n",
      " 1   jp_nama         242996 non-null  object \n",
      " 2   formasi_nm      242996 non-null  object \n",
      " 3   jabatan_nm      242996 non-null  object \n",
      " 4   lokasi_nm       242996 non-null  object \n",
      " 5   pendidikan_nm   242996 non-null  object \n",
      " 6   gaji_min        242996 non-null  float64\n",
      " 7   gaji_max        242996 non-null  float64\n",
      " 8   jumlah_formasi  242996 non-null  int64  \n",
      "dtypes: float64(2), int64(1), object(6)\n",
      "memory usage: 18.5+ MB\n"
     ]
    }
   ],
   "source": [
    "df_clean.info()"
   ]
  },
  {
   "cell_type": "code",
   "execution_count": 15,
   "metadata": {},
   "outputs": [],
   "source": [
    "df_clean['gaji_min'] = df_clean['gaji_min'].astype('int64')\n",
    "df_clean['gaji_max'] = df_clean['gaji_max'].astype('int64')"
   ]
  },
  {
   "cell_type": "code",
   "execution_count": 16,
   "metadata": {},
   "outputs": [
    {
     "name": "stdout",
     "output_type": "stream",
     "text": [
      "<class 'pandas.core.frame.DataFrame'>\n",
      "Index: 242996 entries, 0 to 247556\n",
      "Data columns (total 9 columns):\n",
      " #   Column          Non-Null Count   Dtype \n",
      "---  ------          --------------   ----- \n",
      " 0   ins_nm          242996 non-null  object\n",
      " 1   jp_nama         242996 non-null  object\n",
      " 2   formasi_nm      242996 non-null  object\n",
      " 3   jabatan_nm      242996 non-null  object\n",
      " 4   lokasi_nm       242996 non-null  object\n",
      " 5   pendidikan_nm   242996 non-null  object\n",
      " 6   gaji_min        242996 non-null  int64 \n",
      " 7   gaji_max        242996 non-null  int64 \n",
      " 8   jumlah_formasi  242996 non-null  int64 \n",
      "dtypes: int64(3), object(6)\n",
      "memory usage: 18.5+ MB\n"
     ]
    }
   ],
   "source": [
    "df_clean.info()"
   ]
  },
  {
   "cell_type": "code",
   "execution_count": 17,
   "metadata": {},
   "outputs": [],
   "source": [
    "# Memisahkan nilai kolom pendidikan_nm dan mengulang kolom lain\n",
    "df_clean = df_clean.assign(pendidikan_nm=df_clean['pendidikan_nm'].str.split(' / ')).explode('pendidikan_nm')"
   ]
  },
  {
   "cell_type": "code",
   "execution_count": 20,
   "metadata": {},
   "outputs": [
    {
     "data": {
      "text/html": [
       "<div>\n",
       "<style scoped>\n",
       "    .dataframe tbody tr th:only-of-type {\n",
       "        vertical-align: middle;\n",
       "    }\n",
       "\n",
       "    .dataframe tbody tr th {\n",
       "        vertical-align: top;\n",
       "    }\n",
       "\n",
       "    .dataframe thead th {\n",
       "        text-align: right;\n",
       "    }\n",
       "</style>\n",
       "<table border=\"1\" class=\"dataframe\">\n",
       "  <thead>\n",
       "    <tr style=\"text-align: right;\">\n",
       "      <th></th>\n",
       "      <th>ins_nm</th>\n",
       "      <th>jp_nama</th>\n",
       "      <th>formasi_nm</th>\n",
       "      <th>jabatan_nm</th>\n",
       "      <th>lokasi_nm</th>\n",
       "      <th>pendidikan_nm</th>\n",
       "      <th>gaji_min</th>\n",
       "      <th>gaji_max</th>\n",
       "      <th>jumlah_formasi</th>\n",
       "    </tr>\n",
       "  </thead>\n",
       "  <tbody>\n",
       "    <tr>\n",
       "      <th>0</th>\n",
       "      <td>Kementerian Agraria dan Tata Ruang/Badan Perta...</td>\n",
       "      <td>PPPK Teknis</td>\n",
       "      <td>KHUSUS</td>\n",
       "      <td>TERAMPIL - ASISTEN PENATA KADASTRAL</td>\n",
       "      <td>KEMENTERIAN ATR/BPN - SULAWESI TENGGARA</td>\n",
       "      <td>D-III SURVEI, PENGUKURAN, PEMETAAN</td>\n",
       "      <td>2647200</td>\n",
       "      <td>5147200</td>\n",
       "      <td>19</td>\n",
       "    </tr>\n",
       "    <tr>\n",
       "      <th>0</th>\n",
       "      <td>Kementerian Agraria dan Tata Ruang/Badan Perta...</td>\n",
       "      <td>PPPK Teknis</td>\n",
       "      <td>KHUSUS</td>\n",
       "      <td>TERAMPIL - ASISTEN PENATA KADASTRAL</td>\n",
       "      <td>KEMENTERIAN ATR/BPN - SULAWESI TENGGARA</td>\n",
       "      <td>D-III GEOMATIKA</td>\n",
       "      <td>2647200</td>\n",
       "      <td>5147200</td>\n",
       "      <td>19</td>\n",
       "    </tr>\n",
       "    <tr>\n",
       "      <th>0</th>\n",
       "      <td>Kementerian Agraria dan Tata Ruang/Badan Perta...</td>\n",
       "      <td>PPPK Teknis</td>\n",
       "      <td>KHUSUS</td>\n",
       "      <td>TERAMPIL - ASISTEN PENATA KADASTRAL</td>\n",
       "      <td>KEMENTERIAN ATR/BPN - SULAWESI TENGGARA</td>\n",
       "      <td>D-III PERTANAHAN</td>\n",
       "      <td>2647200</td>\n",
       "      <td>5147200</td>\n",
       "      <td>19</td>\n",
       "    </tr>\n",
       "    <tr>\n",
       "      <th>0</th>\n",
       "      <td>Kementerian Agraria dan Tata Ruang/Badan Perta...</td>\n",
       "      <td>PPPK Teknis</td>\n",
       "      <td>KHUSUS</td>\n",
       "      <td>TERAMPIL - ASISTEN PENATA KADASTRAL</td>\n",
       "      <td>KEMENTERIAN ATR/BPN - SULAWESI TENGGARA</td>\n",
       "      <td>D-III TEKNIK GEODESI</td>\n",
       "      <td>2647200</td>\n",
       "      <td>5147200</td>\n",
       "      <td>19</td>\n",
       "    </tr>\n",
       "    <tr>\n",
       "      <th>0</th>\n",
       "      <td>Kementerian Agraria dan Tata Ruang/Badan Perta...</td>\n",
       "      <td>PPPK Teknis</td>\n",
       "      <td>KHUSUS</td>\n",
       "      <td>TERAMPIL - ASISTEN PENATA KADASTRAL</td>\n",
       "      <td>KEMENTERIAN ATR/BPN - SULAWESI TENGGARA</td>\n",
       "      <td>D-III GEOGRAFI</td>\n",
       "      <td>2647200</td>\n",
       "      <td>5147200</td>\n",
       "      <td>19</td>\n",
       "    </tr>\n",
       "  </tbody>\n",
       "</table>\n",
       "</div>"
      ],
      "text/plain": [
       "                                              ins_nm      jp_nama formasi_nm  \\\n",
       "0  Kementerian Agraria dan Tata Ruang/Badan Perta...  PPPK Teknis     KHUSUS   \n",
       "0  Kementerian Agraria dan Tata Ruang/Badan Perta...  PPPK Teknis     KHUSUS   \n",
       "0  Kementerian Agraria dan Tata Ruang/Badan Perta...  PPPK Teknis     KHUSUS   \n",
       "0  Kementerian Agraria dan Tata Ruang/Badan Perta...  PPPK Teknis     KHUSUS   \n",
       "0  Kementerian Agraria dan Tata Ruang/Badan Perta...  PPPK Teknis     KHUSUS   \n",
       "\n",
       "                            jabatan_nm  \\\n",
       "0  TERAMPIL - ASISTEN PENATA KADASTRAL   \n",
       "0  TERAMPIL - ASISTEN PENATA KADASTRAL   \n",
       "0  TERAMPIL - ASISTEN PENATA KADASTRAL   \n",
       "0  TERAMPIL - ASISTEN PENATA KADASTRAL   \n",
       "0  TERAMPIL - ASISTEN PENATA KADASTRAL   \n",
       "\n",
       "                                 lokasi_nm  \\\n",
       "0  KEMENTERIAN ATR/BPN - SULAWESI TENGGARA   \n",
       "0  KEMENTERIAN ATR/BPN - SULAWESI TENGGARA   \n",
       "0  KEMENTERIAN ATR/BPN - SULAWESI TENGGARA   \n",
       "0  KEMENTERIAN ATR/BPN - SULAWESI TENGGARA   \n",
       "0  KEMENTERIAN ATR/BPN - SULAWESI TENGGARA   \n",
       "\n",
       "                        pendidikan_nm  gaji_min  gaji_max  jumlah_formasi  \n",
       "0  D-III SURVEI, PENGUKURAN, PEMETAAN   2647200   5147200              19  \n",
       "0                     D-III GEOMATIKA   2647200   5147200              19  \n",
       "0                    D-III PERTANAHAN   2647200   5147200              19  \n",
       "0                D-III TEKNIK GEODESI   2647200   5147200              19  \n",
       "0                      D-III GEOGRAFI   2647200   5147200              19  "
      ]
     },
     "execution_count": 20,
     "metadata": {},
     "output_type": "execute_result"
    }
   ],
   "source": [
    "df_clean.head()"
   ]
  },
  {
   "cell_type": "code",
   "execution_count": 19,
   "metadata": {},
   "outputs": [],
   "source": [
    "df_clean.to_csv('Loker ASN 2023 Clean.csv')"
   ]
  }
 ],
 "metadata": {
  "kernelspec": {
   "display_name": "base",
   "language": "python",
   "name": "python3"
  },
  "language_info": {
   "codemirror_mode": {
    "name": "ipython",
    "version": 3
   },
   "file_extension": ".py",
   "mimetype": "text/x-python",
   "name": "python",
   "nbconvert_exporter": "python",
   "pygments_lexer": "ipython3",
   "version": "3.9.18"
  }
 },
 "nbformat": 4,
 "nbformat_minor": 2
}
